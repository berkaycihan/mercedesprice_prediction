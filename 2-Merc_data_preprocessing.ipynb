{
 "cells": [
  {
   "cell_type": "code",
   "execution_count": 1,
   "metadata": {},
   "outputs": [],
   "source": [
    "import pandas as pd\n",
    "import seaborn as sns\n",
    "import matplotlib.pyplot as plt"
   ]
  },
  {
   "cell_type": "code",
   "execution_count": 2,
   "metadata": {},
   "outputs": [
    {
     "data": {
      "text/html": [
       "<div>\n",
       "<style scoped>\n",
       "    .dataframe tbody tr th:only-of-type {\n",
       "        vertical-align: middle;\n",
       "    }\n",
       "\n",
       "    .dataframe tbody tr th {\n",
       "        vertical-align: top;\n",
       "    }\n",
       "\n",
       "    .dataframe thead th {\n",
       "        text-align: right;\n",
       "    }\n",
       "</style>\n",
       "<table border=\"1\" class=\"dataframe\">\n",
       "  <thead>\n",
       "    <tr style=\"text-align: right;\">\n",
       "      <th></th>\n",
       "      <th>adver_number</th>\n",
       "      <th>brand</th>\n",
       "      <th>class_</th>\n",
       "      <th>variant_</th>\n",
       "      <th>km</th>\n",
       "      <th>engine_capacity_cc</th>\n",
       "      <th>fuel</th>\n",
       "      <th>gear</th>\n",
       "      <th>adver_date</th>\n",
       "      <th>year</th>\n",
       "      <th>city</th>\n",
       "      <th>price_tl</th>\n",
       "      <th>variant</th>\n",
       "      <th>title</th>\n",
       "      <th>city_</th>\n",
       "    </tr>\n",
       "  </thead>\n",
       "  <tbody>\n",
       "    <tr>\n",
       "      <th>0</th>\n",
       "      <td>#3870263</td>\n",
       "      <td>Mercedes</td>\n",
       "      <td>A-Class</td>\n",
       "      <td>A 180</td>\n",
       "      <td>41000</td>\n",
       "      <td>1301-1600 cc</td>\n",
       "      <td>Diesel</td>\n",
       "      <td>Semi-Automatic</td>\n",
       "      <td>21/03/2021</td>\n",
       "      <td>2016</td>\n",
       "      <td>Other</td>\n",
       "      <td>325950</td>\n",
       "      <td>A 180 d AMG</td>\n",
       "      <td>2016 A180dAMG MAKYAJLI KASA CAM TAVAN XENON KE...</td>\n",
       "      <td>Izmir</td>\n",
       "    </tr>\n",
       "    <tr>\n",
       "      <th>1</th>\n",
       "      <td>#294428</td>\n",
       "      <td>Mercedes</td>\n",
       "      <td>A-Class</td>\n",
       "      <td>A 180</td>\n",
       "      <td>102000</td>\n",
       "      <td>1301-1600 cc</td>\n",
       "      <td>Diesel</td>\n",
       "      <td>Automatic</td>\n",
       "      <td>21/03/2021</td>\n",
       "      <td>2017</td>\n",
       "      <td>Other</td>\n",
       "      <td>242000</td>\n",
       "      <td>A 180 CDI BlueEfficiency Style</td>\n",
       "      <td>Özsağlam dan 2017 Mercedes A180 CDI Style 102b...</td>\n",
       "      <td>Konya</td>\n",
       "    </tr>\n",
       "    <tr>\n",
       "      <th>2</th>\n",
       "      <td>#3503014</td>\n",
       "      <td>Mercedes</td>\n",
       "      <td>A-Class</td>\n",
       "      <td>Other</td>\n",
       "      <td>0</td>\n",
       "      <td>1301-1600 cc</td>\n",
       "      <td>Diesel</td>\n",
       "      <td>Semi-Automatic</td>\n",
       "      <td>21/03/2021</td>\n",
       "      <td>2020</td>\n",
       "      <td>Other</td>\n",
       "      <td>440000</td>\n",
       "      <td>Other</td>\n",
       "      <td>EROĞLU 0.KM 2020 MERCEDES A180d TECHNOLOGY CAM...</td>\n",
       "      <td>Adana</td>\n",
       "    </tr>\n",
       "    <tr>\n",
       "      <th>3</th>\n",
       "      <td>#2259580</td>\n",
       "      <td>Mercedes</td>\n",
       "      <td>A-Class</td>\n",
       "      <td>A 180</td>\n",
       "      <td>160000</td>\n",
       "      <td>1301-1600 cc</td>\n",
       "      <td>Diesel</td>\n",
       "      <td>Semi-Automatic</td>\n",
       "      <td>21/03/2021</td>\n",
       "      <td>2014</td>\n",
       "      <td>Istanbul</td>\n",
       "      <td>239250</td>\n",
       "      <td>A 180 CDI BlueEfficiency Urban</td>\n",
       "      <td>A180 CDI BlueEFFICIENCY URBAN.. DEĞİŞENSİZ-İÇİ...</td>\n",
       "      <td>Istanbul</td>\n",
       "    </tr>\n",
       "    <tr>\n",
       "      <th>4</th>\n",
       "      <td>#1923116</td>\n",
       "      <td>Mercedes</td>\n",
       "      <td>A-Class</td>\n",
       "      <td>A 180</td>\n",
       "      <td>91000</td>\n",
       "      <td>1301-1600 cc</td>\n",
       "      <td>Diesel</td>\n",
       "      <td>Semi-Automatic</td>\n",
       "      <td>21/03/2021</td>\n",
       "      <td>2016</td>\n",
       "      <td>Other</td>\n",
       "      <td>303750</td>\n",
       "      <td>A 180 d AMG</td>\n",
       "      <td>AZİM OTOMOTİV DEN İLK SAHİBİN DEN 2016 A 180 d...</td>\n",
       "      <td>Denizli</td>\n",
       "    </tr>\n",
       "  </tbody>\n",
       "</table>\n",
       "</div>"
      ],
      "text/plain": [
       "  adver_number     brand   class_ variant_      km engine_capacity_cc    fuel  \\\n",
       "0     #3870263  Mercedes  A-Class    A 180   41000       1301-1600 cc  Diesel   \n",
       "1      #294428  Mercedes  A-Class    A 180  102000       1301-1600 cc  Diesel   \n",
       "2     #3503014  Mercedes  A-Class    Other       0       1301-1600 cc  Diesel   \n",
       "3     #2259580  Mercedes  A-Class    A 180  160000       1301-1600 cc  Diesel   \n",
       "4     #1923116  Mercedes  A-Class    A 180   91000       1301-1600 cc  Diesel   \n",
       "\n",
       "             gear  adver_date  year      city  price_tl  \\\n",
       "0  Semi-Automatic  21/03/2021  2016     Other    325950   \n",
       "1       Automatic  21/03/2021  2017     Other    242000   \n",
       "2  Semi-Automatic  21/03/2021  2020     Other    440000   \n",
       "3  Semi-Automatic  21/03/2021  2014  Istanbul    239250   \n",
       "4  Semi-Automatic  21/03/2021  2016     Other    303750   \n",
       "\n",
       "                          variant  \\\n",
       "0                     A 180 d AMG   \n",
       "1  A 180 CDI BlueEfficiency Style   \n",
       "2                           Other   \n",
       "3  A 180 CDI BlueEfficiency Urban   \n",
       "4                     A 180 d AMG   \n",
       "\n",
       "                                               title     city_  \n",
       "0  2016 A180dAMG MAKYAJLI KASA CAM TAVAN XENON KE...     Izmir  \n",
       "1  Özsağlam dan 2017 Mercedes A180 CDI Style 102b...     Konya  \n",
       "2  EROĞLU 0.KM 2020 MERCEDES A180d TECHNOLOGY CAM...     Adana  \n",
       "3  A180 CDI BlueEFFICIENCY URBAN.. DEĞİŞENSİZ-İÇİ...  Istanbul  \n",
       "4  AZİM OTOMOTİV DEN İLK SAHİBİN DEN 2016 A 180 d...   Denizli  "
      ]
     },
     "execution_count": 2,
     "metadata": {},
     "output_type": "execute_result"
    }
   ],
   "source": [
    "df=pd.read_csv('MercedesTidyData.csv')\n",
    "df_2=df.copy()\n",
    "df_2.head()"
   ]
  },
  {
   "cell_type": "code",
   "execution_count": 3,
   "metadata": {},
   "outputs": [
    {
     "data": {
      "text/plain": [
       "array(['1301-1600 cc', '1300 cc and lower', '1601-1800 cc',\n",
       "       '2001-2500 cc', '1801-2000 cc', '2501-3000 cc', '3001-3500 cc'],\n",
       "      dtype=object)"
      ]
     },
     "execution_count": 3,
     "metadata": {},
     "output_type": "execute_result"
    }
   ],
   "source": [
    "df_2.engine_capacity_cc.unique()"
   ]
  },
  {
   "cell_type": "code",
   "execution_count": 4,
   "metadata": {},
   "outputs": [
    {
     "data": {
      "text/html": [
       "<div>\n",
       "<style scoped>\n",
       "    .dataframe tbody tr th:only-of-type {\n",
       "        vertical-align: middle;\n",
       "    }\n",
       "\n",
       "    .dataframe tbody tr th {\n",
       "        vertical-align: top;\n",
       "    }\n",
       "\n",
       "    .dataframe thead th {\n",
       "        text-align: right;\n",
       "    }\n",
       "</style>\n",
       "<table border=\"1\" class=\"dataframe\">\n",
       "  <thead>\n",
       "    <tr style=\"text-align: right;\">\n",
       "      <th></th>\n",
       "      <th>class_</th>\n",
       "      <th>variant_</th>\n",
       "      <th>km</th>\n",
       "      <th>engine_capacity_cc</th>\n",
       "      <th>fuel</th>\n",
       "      <th>gear</th>\n",
       "      <th>year</th>\n",
       "      <th>city</th>\n",
       "      <th>price_tl</th>\n",
       "    </tr>\n",
       "  </thead>\n",
       "  <tbody>\n",
       "    <tr>\n",
       "      <th>0</th>\n",
       "      <td>A-Class</td>\n",
       "      <td>A 180</td>\n",
       "      <td>41000</td>\n",
       "      <td>1301-1600 cc</td>\n",
       "      <td>Diesel</td>\n",
       "      <td>Semi-Automatic</td>\n",
       "      <td>2016</td>\n",
       "      <td>Other</td>\n",
       "      <td>325950</td>\n",
       "    </tr>\n",
       "    <tr>\n",
       "      <th>1</th>\n",
       "      <td>A-Class</td>\n",
       "      <td>A 180</td>\n",
       "      <td>102000</td>\n",
       "      <td>1301-1600 cc</td>\n",
       "      <td>Diesel</td>\n",
       "      <td>Automatic</td>\n",
       "      <td>2017</td>\n",
       "      <td>Other</td>\n",
       "      <td>242000</td>\n",
       "    </tr>\n",
       "    <tr>\n",
       "      <th>2</th>\n",
       "      <td>A-Class</td>\n",
       "      <td>Other</td>\n",
       "      <td>0</td>\n",
       "      <td>1301-1600 cc</td>\n",
       "      <td>Diesel</td>\n",
       "      <td>Semi-Automatic</td>\n",
       "      <td>2020</td>\n",
       "      <td>Other</td>\n",
       "      <td>440000</td>\n",
       "    </tr>\n",
       "    <tr>\n",
       "      <th>3</th>\n",
       "      <td>A-Class</td>\n",
       "      <td>A 180</td>\n",
       "      <td>160000</td>\n",
       "      <td>1301-1600 cc</td>\n",
       "      <td>Diesel</td>\n",
       "      <td>Semi-Automatic</td>\n",
       "      <td>2014</td>\n",
       "      <td>Istanbul</td>\n",
       "      <td>239250</td>\n",
       "    </tr>\n",
       "    <tr>\n",
       "      <th>4</th>\n",
       "      <td>A-Class</td>\n",
       "      <td>A 180</td>\n",
       "      <td>91000</td>\n",
       "      <td>1301-1600 cc</td>\n",
       "      <td>Diesel</td>\n",
       "      <td>Semi-Automatic</td>\n",
       "      <td>2016</td>\n",
       "      <td>Other</td>\n",
       "      <td>303750</td>\n",
       "    </tr>\n",
       "  </tbody>\n",
       "</table>\n",
       "</div>"
      ],
      "text/plain": [
       "    class_ variant_      km engine_capacity_cc    fuel            gear  year  \\\n",
       "0  A-Class    A 180   41000       1301-1600 cc  Diesel  Semi-Automatic  2016   \n",
       "1  A-Class    A 180  102000       1301-1600 cc  Diesel       Automatic  2017   \n",
       "2  A-Class    Other       0       1301-1600 cc  Diesel  Semi-Automatic  2020   \n",
       "3  A-Class    A 180  160000       1301-1600 cc  Diesel  Semi-Automatic  2014   \n",
       "4  A-Class    A 180   91000       1301-1600 cc  Diesel  Semi-Automatic  2016   \n",
       "\n",
       "       city  price_tl  \n",
       "0     Other    325950  \n",
       "1     Other    242000  \n",
       "2     Other    440000  \n",
       "3  Istanbul    239250  \n",
       "4     Other    303750  "
      ]
     },
     "execution_count": 4,
     "metadata": {},
     "output_type": "execute_result"
    }
   ],
   "source": [
    "df_2=df_2.drop(['city_'], axis = 1)\n",
    "df_2=df_2.drop(['title'], axis = 1)\n",
    "df_2=df_2.drop(['variant'], axis = 1)\n",
    "df_2=df_2.drop(['adver_number'], axis = 1)\n",
    "df_2=df_2.drop(['adver_date'], axis = 1)\n",
    "df_2=df_2.drop(['brand'], axis = 1)\n",
    "df_2.head()"
   ]
  },
  {
   "cell_type": "code",
   "execution_count": 5,
   "metadata": {},
   "outputs": [],
   "source": [
    "df_2['age']=2022-df_2.year\n",
    "df_2=df_2.drop(['year'], axis = 1)"
   ]
  },
  {
   "cell_type": "code",
   "execution_count": 6,
   "metadata": {},
   "outputs": [
    {
     "data": {
      "text/html": [
       "<div>\n",
       "<style scoped>\n",
       "    .dataframe tbody tr th:only-of-type {\n",
       "        vertical-align: middle;\n",
       "    }\n",
       "\n",
       "    .dataframe tbody tr th {\n",
       "        vertical-align: top;\n",
       "    }\n",
       "\n",
       "    .dataframe thead th {\n",
       "        text-align: right;\n",
       "    }\n",
       "</style>\n",
       "<table border=\"1\" class=\"dataframe\">\n",
       "  <thead>\n",
       "    <tr style=\"text-align: right;\">\n",
       "      <th></th>\n",
       "      <th>class_</th>\n",
       "      <th>variant_</th>\n",
       "      <th>km</th>\n",
       "      <th>engine_capacity_cc</th>\n",
       "      <th>fuel</th>\n",
       "      <th>gear</th>\n",
       "      <th>city</th>\n",
       "      <th>price_tl</th>\n",
       "      <th>age</th>\n",
       "    </tr>\n",
       "  </thead>\n",
       "  <tbody>\n",
       "    <tr>\n",
       "      <th>0</th>\n",
       "      <td>A-Class</td>\n",
       "      <td>A 180</td>\n",
       "      <td>41000</td>\n",
       "      <td>1301-1600 cc</td>\n",
       "      <td>Diesel</td>\n",
       "      <td>Semi-Automatic</td>\n",
       "      <td>Other</td>\n",
       "      <td>325950</td>\n",
       "      <td>6</td>\n",
       "    </tr>\n",
       "    <tr>\n",
       "      <th>1</th>\n",
       "      <td>A-Class</td>\n",
       "      <td>A 180</td>\n",
       "      <td>102000</td>\n",
       "      <td>1301-1600 cc</td>\n",
       "      <td>Diesel</td>\n",
       "      <td>Automatic</td>\n",
       "      <td>Other</td>\n",
       "      <td>242000</td>\n",
       "      <td>5</td>\n",
       "    </tr>\n",
       "    <tr>\n",
       "      <th>2</th>\n",
       "      <td>A-Class</td>\n",
       "      <td>Other</td>\n",
       "      <td>0</td>\n",
       "      <td>1301-1600 cc</td>\n",
       "      <td>Diesel</td>\n",
       "      <td>Semi-Automatic</td>\n",
       "      <td>Other</td>\n",
       "      <td>440000</td>\n",
       "      <td>2</td>\n",
       "    </tr>\n",
       "    <tr>\n",
       "      <th>3</th>\n",
       "      <td>A-Class</td>\n",
       "      <td>A 180</td>\n",
       "      <td>160000</td>\n",
       "      <td>1301-1600 cc</td>\n",
       "      <td>Diesel</td>\n",
       "      <td>Semi-Automatic</td>\n",
       "      <td>Istanbul</td>\n",
       "      <td>239250</td>\n",
       "      <td>8</td>\n",
       "    </tr>\n",
       "    <tr>\n",
       "      <th>4</th>\n",
       "      <td>A-Class</td>\n",
       "      <td>A 180</td>\n",
       "      <td>91000</td>\n",
       "      <td>1301-1600 cc</td>\n",
       "      <td>Diesel</td>\n",
       "      <td>Semi-Automatic</td>\n",
       "      <td>Other</td>\n",
       "      <td>303750</td>\n",
       "      <td>6</td>\n",
       "    </tr>\n",
       "  </tbody>\n",
       "</table>\n",
       "</div>"
      ],
      "text/plain": [
       "    class_ variant_      km engine_capacity_cc    fuel            gear  \\\n",
       "0  A-Class    A 180   41000       1301-1600 cc  Diesel  Semi-Automatic   \n",
       "1  A-Class    A 180  102000       1301-1600 cc  Diesel       Automatic   \n",
       "2  A-Class    Other       0       1301-1600 cc  Diesel  Semi-Automatic   \n",
       "3  A-Class    A 180  160000       1301-1600 cc  Diesel  Semi-Automatic   \n",
       "4  A-Class    A 180   91000       1301-1600 cc  Diesel  Semi-Automatic   \n",
       "\n",
       "       city  price_tl  age  \n",
       "0     Other    325950    6  \n",
       "1     Other    242000    5  \n",
       "2     Other    440000    2  \n",
       "3  Istanbul    239250    8  \n",
       "4     Other    303750    6  "
      ]
     },
     "execution_count": 6,
     "metadata": {},
     "output_type": "execute_result"
    }
   ],
   "source": [
    "df_2.head()"
   ]
  },
  {
   "cell_type": "code",
   "execution_count": 7,
   "metadata": {},
   "outputs": [
    {
     "name": "stdout",
     "output_type": "stream",
     "text": [
      "<class 'pandas.core.frame.DataFrame'>\n",
      "RangeIndex: 1024 entries, 0 to 1023\n",
      "Data columns (total 9 columns):\n",
      "class_                1024 non-null object\n",
      "variant_              1024 non-null object\n",
      "km                    1024 non-null int64\n",
      "engine_capacity_cc    1024 non-null object\n",
      "fuel                  1024 non-null object\n",
      "gear                  1024 non-null object\n",
      "city                  1024 non-null object\n",
      "price_tl              1024 non-null int64\n",
      "age                   1024 non-null int64\n",
      "dtypes: int64(3), object(6)\n",
      "memory usage: 72.1+ KB\n"
     ]
    }
   ],
   "source": [
    "df_2.info()"
   ]
  },
  {
   "cell_type": "code",
   "execution_count": 8,
   "metadata": {},
   "outputs": [
    {
     "data": {
      "text/html": [
       "<div>\n",
       "<style scoped>\n",
       "    .dataframe tbody tr th:only-of-type {\n",
       "        vertical-align: middle;\n",
       "    }\n",
       "\n",
       "    .dataframe tbody tr th {\n",
       "        vertical-align: top;\n",
       "    }\n",
       "\n",
       "    .dataframe thead th {\n",
       "        text-align: right;\n",
       "    }\n",
       "</style>\n",
       "<table border=\"1\" class=\"dataframe\">\n",
       "  <thead>\n",
       "    <tr style=\"text-align: right;\">\n",
       "      <th></th>\n",
       "      <th>count</th>\n",
       "      <th>mean</th>\n",
       "      <th>std</th>\n",
       "      <th>min</th>\n",
       "      <th>25%</th>\n",
       "      <th>50%</th>\n",
       "      <th>75%</th>\n",
       "      <th>max</th>\n",
       "    </tr>\n",
       "  </thead>\n",
       "  <tbody>\n",
       "    <tr>\n",
       "      <th>km</th>\n",
       "      <td>1024.0</td>\n",
       "      <td>140045.898438</td>\n",
       "      <td>112874.461372</td>\n",
       "      <td>0.0</td>\n",
       "      <td>62000.0</td>\n",
       "      <td>108000.0</td>\n",
       "      <td>187250.0</td>\n",
       "      <td>900000.0</td>\n",
       "    </tr>\n",
       "    <tr>\n",
       "      <th>price_tl</th>\n",
       "      <td>1024.0</td>\n",
       "      <td>387823.776367</td>\n",
       "      <td>219977.524715</td>\n",
       "      <td>117.0</td>\n",
       "      <td>235750.0</td>\n",
       "      <td>376200.0</td>\n",
       "      <td>477625.0</td>\n",
       "      <td>1475000.0</td>\n",
       "    </tr>\n",
       "    <tr>\n",
       "      <th>age</th>\n",
       "      <td>1024.0</td>\n",
       "      <td>9.323242</td>\n",
       "      <td>6.242885</td>\n",
       "      <td>1.0</td>\n",
       "      <td>5.0</td>\n",
       "      <td>7.0</td>\n",
       "      <td>11.0</td>\n",
       "      <td>37.0</td>\n",
       "    </tr>\n",
       "  </tbody>\n",
       "</table>\n",
       "</div>"
      ],
      "text/plain": [
       "           count           mean            std    min       25%       50%  \\\n",
       "km        1024.0  140045.898438  112874.461372    0.0   62000.0  108000.0   \n",
       "price_tl  1024.0  387823.776367  219977.524715  117.0  235750.0  376200.0   \n",
       "age       1024.0       9.323242       6.242885    1.0       5.0       7.0   \n",
       "\n",
       "               75%        max  \n",
       "km        187250.0   900000.0  \n",
       "price_tl  477625.0  1475000.0  \n",
       "age           11.0       37.0  "
      ]
     },
     "execution_count": 8,
     "metadata": {},
     "output_type": "execute_result"
    }
   ],
   "source": [
    "df_2.describe().T"
   ]
  },
  {
   "cell_type": "code",
   "execution_count": 9,
   "metadata": {},
   "outputs": [
    {
     "data": {
      "text/plain": [
       "<seaborn.axisgrid.FacetGrid at 0x19aaee0b6d8>"
      ]
     },
     "execution_count": 9,
     "metadata": {},
     "output_type": "execute_result"
    },
    {
     "data": {
      "image/png": "[encoded data removed]",
      "text/plain": [
       "<matplotlib.figure.Figure at 0x19aaee0b9e8>"
      ]
     },
     "metadata": {
      "needs_background": "light"
     },
     "output_type": "display_data"
    }
   ],
   "source": [
    "sns.lmplot(x = 'km', y = 'price_tl', fit_reg = False, hue = 'class_', data = df_2)"
   ]
  },
  {
   "cell_type": "code",
   "execution_count": 10,
   "metadata": {},
   "outputs": [
    {
     "data": {
      "text/plain": [
       "<matplotlib.axes._subplots.AxesSubplot at 0x19aaf2b4f98>"
      ]
     },
     "execution_count": 10,
     "metadata": {},
     "output_type": "execute_result"
    },
    {
     "data": {
      "image/png": "[encoded data removed]",
      "text/plain": [
       "<matplotlib.figure.Figure at 0x19aab4b17b8>"
      ]
     },
     "metadata": {
      "needs_background": "light"
     },
     "output_type": "display_data"
    }
   ],
   "source": [
    "sns.boxplot(x = df_2.km)"
   ]
  },
  {
   "cell_type": "code",
   "execution_count": 11,
   "metadata": {},
   "outputs": [
    {
     "data": {
      "text/plain": [
       "41000"
      ]
     },
     "execution_count": 11,
     "metadata": {},
     "output_type": "execute_result"
    }
   ],
   "source": [
    "df_2.km[0]"
   ]
  },
  {
   "cell_type": "code",
   "execution_count": 12,
   "metadata": {},
   "outputs": [],
   "source": [
    "df_2.loc[df_2.km == 900000, \"km\"] = 90000"
   ]
  },
  {
   "cell_type": "code",
   "execution_count": 13,
   "metadata": {},
   "outputs": [
    {
     "data": {
      "text/html": [
       "<div>\n",
       "<style scoped>\n",
       "    .dataframe tbody tr th:only-of-type {\n",
       "        vertical-align: middle;\n",
       "    }\n",
       "\n",
       "    .dataframe tbody tr th {\n",
       "        vertical-align: top;\n",
       "    }\n",
       "\n",
       "    .dataframe thead th {\n",
       "        text-align: right;\n",
       "    }\n",
       "</style>\n",
       "<table border=\"1\" class=\"dataframe\">\n",
       "  <thead>\n",
       "    <tr style=\"text-align: right;\">\n",
       "      <th></th>\n",
       "      <th>class_</th>\n",
       "      <th>variant_</th>\n",
       "      <th>km</th>\n",
       "      <th>engine_capacity_cc</th>\n",
       "      <th>fuel</th>\n",
       "      <th>gear</th>\n",
       "      <th>city</th>\n",
       "      <th>price_tl</th>\n",
       "      <th>age</th>\n",
       "    </tr>\n",
       "  </thead>\n",
       "  <tbody>\n",
       "    <tr>\n",
       "      <th>19</th>\n",
       "      <td>A-Class</td>\n",
       "      <td>A 180</td>\n",
       "      <td>82000</td>\n",
       "      <td>1301-1600 cc</td>\n",
       "      <td>Diesel</td>\n",
       "      <td>Semi-Automatic</td>\n",
       "      <td>Other</td>\n",
       "      <td>299000</td>\n",
       "      <td>6</td>\n",
       "    </tr>\n",
       "    <tr>\n",
       "      <th>20</th>\n",
       "      <td>A-Class</td>\n",
       "      <td>A 180</td>\n",
       "      <td>34000</td>\n",
       "      <td>1301-1600 cc</td>\n",
       "      <td>Petrol</td>\n",
       "      <td>Semi-Automatic</td>\n",
       "      <td>Other</td>\n",
       "      <td>326900</td>\n",
       "      <td>6</td>\n",
       "    </tr>\n",
       "    <tr>\n",
       "      <th>21</th>\n",
       "      <td>A-Class</td>\n",
       "      <td>Other</td>\n",
       "      <td>90000</td>\n",
       "      <td>1301-1600 cc</td>\n",
       "      <td>Petrol</td>\n",
       "      <td>Semi-Automatic</td>\n",
       "      <td>Other</td>\n",
       "      <td>439900</td>\n",
       "      <td>2</td>\n",
       "    </tr>\n",
       "    <tr>\n",
       "      <th>22</th>\n",
       "      <td>A-Class</td>\n",
       "      <td>A 180</td>\n",
       "      <td>77000</td>\n",
       "      <td>1301-1600 cc</td>\n",
       "      <td>Diesel</td>\n",
       "      <td>Semi-Automatic</td>\n",
       "      <td>Istanbul</td>\n",
       "      <td>278950</td>\n",
       "      <td>7</td>\n",
       "    </tr>\n",
       "    <tr>\n",
       "      <th>23</th>\n",
       "      <td>A-Class</td>\n",
       "      <td>Other</td>\n",
       "      <td>46000</td>\n",
       "      <td>1300 cc and lower</td>\n",
       "      <td>Diesel</td>\n",
       "      <td>Automatic</td>\n",
       "      <td>Other</td>\n",
       "      <td>307000</td>\n",
       "      <td>5</td>\n",
       "    </tr>\n",
       "    <tr>\n",
       "      <th>24</th>\n",
       "      <td>A-Class</td>\n",
       "      <td>A 180</td>\n",
       "      <td>42000</td>\n",
       "      <td>1301-1600 cc</td>\n",
       "      <td>Diesel</td>\n",
       "      <td>Semi-Automatic</td>\n",
       "      <td>Other</td>\n",
       "      <td>287500</td>\n",
       "      <td>7</td>\n",
       "    </tr>\n",
       "    <tr>\n",
       "      <th>25</th>\n",
       "      <td>A-Class</td>\n",
       "      <td>A 180</td>\n",
       "      <td>145000</td>\n",
       "      <td>1301-1600 cc</td>\n",
       "      <td>Diesel</td>\n",
       "      <td>Semi-Automatic</td>\n",
       "      <td>Other</td>\n",
       "      <td>220900</td>\n",
       "      <td>7</td>\n",
       "    </tr>\n",
       "    <tr>\n",
       "      <th>26</th>\n",
       "      <td>A-Class</td>\n",
       "      <td>A 180</td>\n",
       "      <td>75000</td>\n",
       "      <td>1301-1600 cc</td>\n",
       "      <td>Petrol</td>\n",
       "      <td>Semi-Automatic</td>\n",
       "      <td>Other</td>\n",
       "      <td>258000</td>\n",
       "      <td>8</td>\n",
       "    </tr>\n",
       "    <tr>\n",
       "      <th>27</th>\n",
       "      <td>A-Class</td>\n",
       "      <td>A 180</td>\n",
       "      <td>75000</td>\n",
       "      <td>1301-1600 cc</td>\n",
       "      <td>Diesel</td>\n",
       "      <td>Semi-Automatic</td>\n",
       "      <td>Other</td>\n",
       "      <td>255000</td>\n",
       "      <td>6</td>\n",
       "    </tr>\n",
       "    <tr>\n",
       "      <th>28</th>\n",
       "      <td>A-Class</td>\n",
       "      <td>A 180</td>\n",
       "      <td>56000</td>\n",
       "      <td>1301-1600 cc</td>\n",
       "      <td>Diesel</td>\n",
       "      <td>Semi-Automatic</td>\n",
       "      <td>Other</td>\n",
       "      <td>309500</td>\n",
       "      <td>6</td>\n",
       "    </tr>\n",
       "    <tr>\n",
       "      <th>29</th>\n",
       "      <td>A-Class</td>\n",
       "      <td>A 180</td>\n",
       "      <td>58000</td>\n",
       "      <td>1301-1600 cc</td>\n",
       "      <td>Petrol</td>\n",
       "      <td>Semi-Automatic</td>\n",
       "      <td>Istanbul</td>\n",
       "      <td>197500</td>\n",
       "      <td>8</td>\n",
       "    </tr>\n",
       "    <tr>\n",
       "      <th>30</th>\n",
       "      <td>A-Class</td>\n",
       "      <td>A 180</td>\n",
       "      <td>112000</td>\n",
       "      <td>1301-1600 cc</td>\n",
       "      <td>Petrol</td>\n",
       "      <td>Semi-Automatic</td>\n",
       "      <td>Other</td>\n",
       "      <td>258500</td>\n",
       "      <td>9</td>\n",
       "    </tr>\n",
       "    <tr>\n",
       "      <th>31</th>\n",
       "      <td>A-Class</td>\n",
       "      <td>A 180</td>\n",
       "      <td>148000</td>\n",
       "      <td>1301-1600 cc</td>\n",
       "      <td>Petrol</td>\n",
       "      <td>Semi-Automatic</td>\n",
       "      <td>Other</td>\n",
       "      <td>232000</td>\n",
       "      <td>9</td>\n",
       "    </tr>\n",
       "    <tr>\n",
       "      <th>32</th>\n",
       "      <td>A-Class</td>\n",
       "      <td>A 180</td>\n",
       "      <td>62000</td>\n",
       "      <td>1301-1600 cc</td>\n",
       "      <td>Diesel</td>\n",
       "      <td>Semi-Automatic</td>\n",
       "      <td>Istanbul</td>\n",
       "      <td>268000</td>\n",
       "      <td>5</td>\n",
       "    </tr>\n",
       "    <tr>\n",
       "      <th>33</th>\n",
       "      <td>A-Class</td>\n",
       "      <td>A 180</td>\n",
       "      <td>125000</td>\n",
       "      <td>1301-1600 cc</td>\n",
       "      <td>Diesel</td>\n",
       "      <td>Semi-Automatic</td>\n",
       "      <td>Istanbul</td>\n",
       "      <td>254500</td>\n",
       "      <td>6</td>\n",
       "    </tr>\n",
       "    <tr>\n",
       "      <th>34</th>\n",
       "      <td>A-Class</td>\n",
       "      <td>A 180</td>\n",
       "      <td>127000</td>\n",
       "      <td>1300 cc and lower</td>\n",
       "      <td>Petrol</td>\n",
       "      <td>Semi-Automatic</td>\n",
       "      <td>Istanbul</td>\n",
       "      <td>209950</td>\n",
       "      <td>10</td>\n",
       "    </tr>\n",
       "    <tr>\n",
       "      <th>35</th>\n",
       "      <td>A-Class</td>\n",
       "      <td>A 180</td>\n",
       "      <td>43000</td>\n",
       "      <td>1301-1600 cc</td>\n",
       "      <td>Diesel</td>\n",
       "      <td>Semi-Automatic</td>\n",
       "      <td>Other</td>\n",
       "      <td>299900</td>\n",
       "      <td>7</td>\n",
       "    </tr>\n",
       "    <tr>\n",
       "      <th>36</th>\n",
       "      <td>A-Class</td>\n",
       "      <td>A 180</td>\n",
       "      <td>35000</td>\n",
       "      <td>1301-1600 cc</td>\n",
       "      <td>Diesel</td>\n",
       "      <td>Semi-Automatic</td>\n",
       "      <td>Other</td>\n",
       "      <td>329000</td>\n",
       "      <td>5</td>\n",
       "    </tr>\n",
       "    <tr>\n",
       "      <th>37</th>\n",
       "      <td>A-Class</td>\n",
       "      <td>A 180</td>\n",
       "      <td>100000</td>\n",
       "      <td>1301-1600 cc</td>\n",
       "      <td>Diesel</td>\n",
       "      <td>Semi-Automatic</td>\n",
       "      <td>Istanbul</td>\n",
       "      <td>489500</td>\n",
       "      <td>2</td>\n",
       "    </tr>\n",
       "    <tr>\n",
       "      <th>38</th>\n",
       "      <td>A-Class</td>\n",
       "      <td>A 180</td>\n",
       "      <td>49000</td>\n",
       "      <td>1301-1600 cc</td>\n",
       "      <td>Petrol</td>\n",
       "      <td>Semi-Automatic</td>\n",
       "      <td>Other</td>\n",
       "      <td>292750</td>\n",
       "      <td>7</td>\n",
       "    </tr>\n",
       "    <tr>\n",
       "      <th>39</th>\n",
       "      <td>A-Class</td>\n",
       "      <td>A 180</td>\n",
       "      <td>166000</td>\n",
       "      <td>1301-1600 cc</td>\n",
       "      <td>Petrol</td>\n",
       "      <td>Semi-Automatic</td>\n",
       "      <td>Istanbul</td>\n",
       "      <td>242500</td>\n",
       "      <td>9</td>\n",
       "    </tr>\n",
       "  </tbody>\n",
       "</table>\n",
       "</div>"
      ],
      "text/plain": [
       "     class_ variant_      km engine_capacity_cc    fuel            gear  \\\n",
       "19  A-Class    A 180   82000       1301-1600 cc  Diesel  Semi-Automatic   \n",
       "20  A-Class    A 180   34000       1301-1600 cc  Petrol  Semi-Automatic   \n",
       "21  A-Class    Other   90000       1301-1600 cc  Petrol  Semi-Automatic   \n",
       "22  A-Class    A 180   77000       1301-1600 cc  Diesel  Semi-Automatic   \n",
       "23  A-Class    Other   46000  1300 cc and lower  Diesel       Automatic   \n",
       "24  A-Class    A 180   42000       1301-1600 cc  Diesel  Semi-Automatic   \n",
       "25  A-Class    A 180  145000       1301-1600 cc  Diesel  Semi-Automatic   \n",
       "26  A-Class    A 180   75000       1301-1600 cc  Petrol  Semi-Automatic   \n",
       "27  A-Class    A 180   75000       1301-1600 cc  Diesel  Semi-Automatic   \n",
       "28  A-Class    A 180   56000       1301-1600 cc  Diesel  Semi-Automatic   \n",
       "29  A-Class    A 180   58000       1301-1600 cc  Petrol  Semi-Automatic   \n",
       "30  A-Class    A 180  112000       1301-1600 cc  Petrol  Semi-Automatic   \n",
       "31  A-Class    A 180  148000       1301-1600 cc  Petrol  Semi-Automatic   \n",
       "32  A-Class    A 180   62000       1301-1600 cc  Diesel  Semi-Automatic   \n",
       "33  A-Class    A 180  125000       1301-1600 cc  Diesel  Semi-Automatic   \n",
       "34  A-Class    A 180  127000  1300 cc and lower  Petrol  Semi-Automatic   \n",
       "35  A-Class    A 180   43000       1301-1600 cc  Diesel  Semi-Automatic   \n",
       "36  A-Class    A 180   35000       1301-1600 cc  Diesel  Semi-Automatic   \n",
       "37  A-Class    A 180  100000       1301-1600 cc  Diesel  Semi-Automatic   \n",
       "38  A-Class    A 180   49000       1301-1600 cc  Petrol  Semi-Automatic   \n",
       "39  A-Class    A 180  166000       1301-1600 cc  Petrol  Semi-Automatic   \n",
       "\n",
       "        city  price_tl  age  \n",
       "19     Other    299000    6  \n",
       "20     Other    326900    6  \n",
       "21     Other    439900    2  \n",
       "22  Istanbul    278950    7  \n",
       "23     Other    307000    5  \n",
       "24     Other    287500    7  \n",
       "25     Other    220900    7  \n",
       "26     Other    258000    8  \n",
       "27     Other    255000    6  \n",
       "28     Other    309500    6  \n",
       "29  Istanbul    197500    8  \n",
       "30     Other    258500    9  \n",
       "31     Other    232000    9  \n",
       "32  Istanbul    268000    5  \n",
       "33  Istanbul    254500    6  \n",
       "34  Istanbul    209950   10  \n",
       "35     Other    299900    7  \n",
       "36     Other    329000    5  \n",
       "37  Istanbul    489500    2  \n",
       "38     Other    292750    7  \n",
       "39  Istanbul    242500    9  "
      ]
     },
     "execution_count": 13,
     "metadata": {},
     "output_type": "execute_result"
    }
   ],
   "source": [
    "df_2[19:40]"
   ]
  },
  {
   "cell_type": "code",
   "execution_count": 14,
   "metadata": {},
   "outputs": [
    {
     "data": {
      "text/plain": [
       "<seaborn.axisgrid.FacetGrid at 0x19aaf32a400>"
      ]
     },
     "execution_count": 14,
     "metadata": {},
     "output_type": "execute_result"
    },
    {
     "data": {
      "image/png": "[encoded data removed]",
      "text/plain": [
       "<matplotlib.figure.Figure at 0x19aaf32ae10>"
      ]
     },
     "metadata": {
      "needs_background": "light"
     },
     "output_type": "display_data"
    }
   ],
   "source": [
    "sns.lmplot(x = 'km', y = 'price_tl', fit_reg = False, hue = 'class_', data = df_2)"
   ]
  },
  {
   "cell_type": "code",
   "execution_count": 15,
   "metadata": {},
   "outputs": [
    {
     "data": {
      "text/html": [
       "<div>\n",
       "<style scoped>\n",
       "    .dataframe tbody tr th:only-of-type {\n",
       "        vertical-align: middle;\n",
       "    }\n",
       "\n",
       "    .dataframe tbody tr th {\n",
       "        vertical-align: top;\n",
       "    }\n",
       "\n",
       "    .dataframe thead th {\n",
       "        text-align: right;\n",
       "    }\n",
       "</style>\n",
       "<table border=\"1\" class=\"dataframe\">\n",
       "  <thead>\n",
       "    <tr style=\"text-align: right;\">\n",
       "      <th></th>\n",
       "      <th>class_</th>\n",
       "      <th>variant_</th>\n",
       "      <th>km</th>\n",
       "      <th>engine_capacity_cc</th>\n",
       "      <th>fuel</th>\n",
       "      <th>gear</th>\n",
       "      <th>city</th>\n",
       "      <th>price_tl</th>\n",
       "      <th>age</th>\n",
       "    </tr>\n",
       "  </thead>\n",
       "  <tbody>\n",
       "    <tr>\n",
       "      <th>651</th>\n",
       "      <td>E-Class</td>\n",
       "      <td>Other</td>\n",
       "      <td>0</td>\n",
       "      <td>1300 cc and lower</td>\n",
       "      <td>Diesel</td>\n",
       "      <td>Automatic</td>\n",
       "      <td>Other</td>\n",
       "      <td>1470000</td>\n",
       "      <td>2</td>\n",
       "    </tr>\n",
       "    <tr>\n",
       "      <th>719</th>\n",
       "      <td>E-Class</td>\n",
       "      <td>E 220</td>\n",
       "      <td>0</td>\n",
       "      <td>1801-2000 cc</td>\n",
       "      <td>Diesel</td>\n",
       "      <td>Automatic</td>\n",
       "      <td>Istanbul</td>\n",
       "      <td>1475000</td>\n",
       "      <td>1</td>\n",
       "    </tr>\n",
       "    <tr>\n",
       "      <th>799</th>\n",
       "      <td>E-Class</td>\n",
       "      <td>E 300</td>\n",
       "      <td>1000</td>\n",
       "      <td>1300 cc and lower</td>\n",
       "      <td>Petrol</td>\n",
       "      <td>Automatic</td>\n",
       "      <td>Other</td>\n",
       "      <td>1455000</td>\n",
       "      <td>2</td>\n",
       "    </tr>\n",
       "    <tr>\n",
       "      <th>804</th>\n",
       "      <td>E-Class</td>\n",
       "      <td>E 300</td>\n",
       "      <td>2000</td>\n",
       "      <td>1300 cc and lower</td>\n",
       "      <td>Petrol</td>\n",
       "      <td>Automatic</td>\n",
       "      <td>Istanbul</td>\n",
       "      <td>1450000</td>\n",
       "      <td>2</td>\n",
       "    </tr>\n",
       "    <tr>\n",
       "      <th>825</th>\n",
       "      <td>E-Class</td>\n",
       "      <td>E 300</td>\n",
       "      <td>224000</td>\n",
       "      <td>1300 cc and lower</td>\n",
       "      <td>Petrol</td>\n",
       "      <td>Automatic</td>\n",
       "      <td>Istanbul</td>\n",
       "      <td>1475000</td>\n",
       "      <td>2</td>\n",
       "    </tr>\n",
       "    <tr>\n",
       "      <th>913</th>\n",
       "      <td>E-Class</td>\n",
       "      <td>E 300</td>\n",
       "      <td>2000</td>\n",
       "      <td>1300 cc and lower</td>\n",
       "      <td>Petrol</td>\n",
       "      <td>Automatic</td>\n",
       "      <td>Istanbul</td>\n",
       "      <td>1450000</td>\n",
       "      <td>2</td>\n",
       "    </tr>\n",
       "    <tr>\n",
       "      <th>986</th>\n",
       "      <td>E-Class</td>\n",
       "      <td>E 300</td>\n",
       "      <td>12000</td>\n",
       "      <td>1300 cc and lower</td>\n",
       "      <td>Petrol</td>\n",
       "      <td>Automatic</td>\n",
       "      <td>Other</td>\n",
       "      <td>1475000</td>\n",
       "      <td>2</td>\n",
       "    </tr>\n",
       "    <tr>\n",
       "      <th>995</th>\n",
       "      <td>E-Class</td>\n",
       "      <td>E 300</td>\n",
       "      <td>224000</td>\n",
       "      <td>1300 cc and lower</td>\n",
       "      <td>Petrol</td>\n",
       "      <td>Automatic</td>\n",
       "      <td>Other</td>\n",
       "      <td>1475000</td>\n",
       "      <td>2</td>\n",
       "    </tr>\n",
       "  </tbody>\n",
       "</table>\n",
       "</div>"
      ],
      "text/plain": [
       "      class_ variant_      km engine_capacity_cc    fuel       gear      city  \\\n",
       "651  E-Class    Other       0  1300 cc and lower  Diesel  Automatic     Other   \n",
       "719  E-Class    E 220       0       1801-2000 cc  Diesel  Automatic  Istanbul   \n",
       "799  E-Class    E 300    1000  1300 cc and lower  Petrol  Automatic     Other   \n",
       "804  E-Class    E 300    2000  1300 cc and lower  Petrol  Automatic  Istanbul   \n",
       "825  E-Class    E 300  224000  1300 cc and lower  Petrol  Automatic  Istanbul   \n",
       "913  E-Class    E 300    2000  1300 cc and lower  Petrol  Automatic  Istanbul   \n",
       "986  E-Class    E 300   12000  1300 cc and lower  Petrol  Automatic     Other   \n",
       "995  E-Class    E 300  224000  1300 cc and lower  Petrol  Automatic     Other   \n",
       "\n",
       "     price_tl  age  \n",
       "651   1470000    2  \n",
       "719   1475000    1  \n",
       "799   1455000    2  \n",
       "804   1450000    2  \n",
       "825   1475000    2  \n",
       "913   1450000    2  \n",
       "986   1475000    2  \n",
       "995   1475000    2  "
      ]
     },
     "execution_count": 15,
     "metadata": {},
     "output_type": "execute_result"
    }
   ],
   "source": [
    "df_2[df_2.price_tl>1400000]"
   ]
  },
  {
   "cell_type": "code",
   "execution_count": 16,
   "metadata": {},
   "outputs": [
    {
     "data": {
      "text/html": [
       "<div>\n",
       "<style scoped>\n",
       "    .dataframe tbody tr th:only-of-type {\n",
       "        vertical-align: middle;\n",
       "    }\n",
       "\n",
       "    .dataframe tbody tr th {\n",
       "        vertical-align: top;\n",
       "    }\n",
       "\n",
       "    .dataframe thead th {\n",
       "        text-align: right;\n",
       "    }\n",
       "</style>\n",
       "<table border=\"1\" class=\"dataframe\">\n",
       "  <thead>\n",
       "    <tr style=\"text-align: right;\">\n",
       "      <th></th>\n",
       "      <th>class_</th>\n",
       "      <th>variant_</th>\n",
       "      <th>km</th>\n",
       "      <th>engine_capacity_cc</th>\n",
       "      <th>fuel</th>\n",
       "      <th>gear</th>\n",
       "      <th>city</th>\n",
       "      <th>price_tl</th>\n",
       "      <th>age</th>\n",
       "    </tr>\n",
       "  </thead>\n",
       "  <tbody>\n",
       "    <tr>\n",
       "      <th>825</th>\n",
       "      <td>E-Class</td>\n",
       "      <td>E 300</td>\n",
       "      <td>224000</td>\n",
       "      <td>1300 cc and lower</td>\n",
       "      <td>Petrol</td>\n",
       "      <td>Automatic</td>\n",
       "      <td>Istanbul</td>\n",
       "      <td>1475000</td>\n",
       "      <td>2</td>\n",
       "    </tr>\n",
       "    <tr>\n",
       "      <th>995</th>\n",
       "      <td>E-Class</td>\n",
       "      <td>E 300</td>\n",
       "      <td>224000</td>\n",
       "      <td>1300 cc and lower</td>\n",
       "      <td>Petrol</td>\n",
       "      <td>Automatic</td>\n",
       "      <td>Other</td>\n",
       "      <td>1475000</td>\n",
       "      <td>2</td>\n",
       "    </tr>\n",
       "  </tbody>\n",
       "</table>\n",
       "</div>"
      ],
      "text/plain": [
       "      class_ variant_      km engine_capacity_cc    fuel       gear      city  \\\n",
       "825  E-Class    E 300  224000  1300 cc and lower  Petrol  Automatic  Istanbul   \n",
       "995  E-Class    E 300  224000  1300 cc and lower  Petrol  Automatic     Other   \n",
       "\n",
       "     price_tl  age  \n",
       "825   1475000    2  \n",
       "995   1475000    2  "
      ]
     },
     "execution_count": 16,
     "metadata": {},
     "output_type": "execute_result"
    }
   ],
   "source": [
    "df_2[df_2.km==224000]"
   ]
  },
  {
   "cell_type": "code",
   "execution_count": 17,
   "metadata": {},
   "outputs": [],
   "source": [
    "df_2.loc[df_2.km == 224000, \"km\"] = 22400"
   ]
  },
  {
   "cell_type": "code",
   "execution_count": 18,
   "metadata": {},
   "outputs": [
    {
     "data": {
      "text/html": [
       "<div>\n",
       "<style scoped>\n",
       "    .dataframe tbody tr th:only-of-type {\n",
       "        vertical-align: middle;\n",
       "    }\n",
       "\n",
       "    .dataframe tbody tr th {\n",
       "        vertical-align: top;\n",
       "    }\n",
       "\n",
       "    .dataframe thead th {\n",
       "        text-align: right;\n",
       "    }\n",
       "</style>\n",
       "<table border=\"1\" class=\"dataframe\">\n",
       "  <thead>\n",
       "    <tr style=\"text-align: right;\">\n",
       "      <th></th>\n",
       "      <th>class_</th>\n",
       "      <th>variant_</th>\n",
       "      <th>km</th>\n",
       "      <th>engine_capacity_cc</th>\n",
       "      <th>fuel</th>\n",
       "      <th>gear</th>\n",
       "      <th>city</th>\n",
       "      <th>price_tl</th>\n",
       "      <th>age</th>\n",
       "    </tr>\n",
       "  </thead>\n",
       "  <tbody>\n",
       "    <tr>\n",
       "      <th>824</th>\n",
       "      <td>E-Class</td>\n",
       "      <td>E 220</td>\n",
       "      <td>84000</td>\n",
       "      <td>2001-2500 cc</td>\n",
       "      <td>Diesel</td>\n",
       "      <td>Semi-Automatic</td>\n",
       "      <td>Istanbul</td>\n",
       "      <td>469500</td>\n",
       "      <td>11</td>\n",
       "    </tr>\n",
       "    <tr>\n",
       "      <th>825</th>\n",
       "      <td>E-Class</td>\n",
       "      <td>E 300</td>\n",
       "      <td>22400</td>\n",
       "      <td>1300 cc and lower</td>\n",
       "      <td>Petrol</td>\n",
       "      <td>Automatic</td>\n",
       "      <td>Istanbul</td>\n",
       "      <td>1475000</td>\n",
       "      <td>2</td>\n",
       "    </tr>\n",
       "  </tbody>\n",
       "</table>\n",
       "</div>"
      ],
      "text/plain": [
       "      class_ variant_     km engine_capacity_cc    fuel            gear  \\\n",
       "824  E-Class    E 220  84000       2001-2500 cc  Diesel  Semi-Automatic   \n",
       "825  E-Class    E 300  22400  1300 cc and lower  Petrol       Automatic   \n",
       "\n",
       "         city  price_tl  age  \n",
       "824  Istanbul    469500   11  \n",
       "825  Istanbul   1475000    2  "
      ]
     },
     "execution_count": 18,
     "metadata": {},
     "output_type": "execute_result"
    }
   ],
   "source": [
    "df_2[824:826]"
   ]
  },
  {
   "cell_type": "code",
   "execution_count": 19,
   "metadata": {},
   "outputs": [
    {
     "data": {
      "image/png": "[encoded data removed]",
      "text/plain": [
       "<matplotlib.figure.Figure at 0x19aaf35b7b8>"
      ]
     },
     "metadata": {
      "needs_background": "light"
     },
     "output_type": "display_data"
    }
   ],
   "source": [
    "sns.lmplot(x = 'km', y = 'price_tl', fit_reg = False, hue = 'class_', data = df_2);"
   ]
  },
  {
   "cell_type": "code",
   "execution_count": 20,
   "metadata": {},
   "outputs": [
    {
     "data": {
      "text/plain": [
       "<matplotlib.axes._subplots.AxesSubplot at 0x19aaf3ba668>"
      ]
     },
     "execution_count": 20,
     "metadata": {},
     "output_type": "execute_result"
    },
    {
     "data": {
      "image/png": "[encoded data removed]",
      "text/plain": [
       "<matplotlib.figure.Figure at 0x19aaf404ac8>"
      ]
     },
     "metadata": {
      "needs_background": "light"
     },
     "output_type": "display_data"
    }
   ],
   "source": [
    "sns.boxplot(x = df_2.age)"
   ]
  },
  {
   "cell_type": "code",
   "execution_count": 21,
   "metadata": {},
   "outputs": [
    {
     "data": {
      "text/html": [
       "<div>\n",
       "<style scoped>\n",
       "    .dataframe tbody tr th:only-of-type {\n",
       "        vertical-align: middle;\n",
       "    }\n",
       "\n",
       "    .dataframe tbody tr th {\n",
       "        vertical-align: top;\n",
       "    }\n",
       "\n",
       "    .dataframe thead th {\n",
       "        text-align: right;\n",
       "    }\n",
       "</style>\n",
       "<table border=\"1\" class=\"dataframe\">\n",
       "  <thead>\n",
       "    <tr style=\"text-align: right;\">\n",
       "      <th></th>\n",
       "      <th>class_</th>\n",
       "      <th>variant_</th>\n",
       "      <th>km</th>\n",
       "      <th>engine_capacity_cc</th>\n",
       "      <th>fuel</th>\n",
       "      <th>gear</th>\n",
       "      <th>city</th>\n",
       "      <th>price_tl</th>\n",
       "      <th>age</th>\n",
       "    </tr>\n",
       "  </thead>\n",
       "  <tbody>\n",
       "    <tr>\n",
       "      <th>647</th>\n",
       "      <td>E-Class</td>\n",
       "      <td>E 200</td>\n",
       "      <td>391000</td>\n",
       "      <td>1300 cc and lower</td>\n",
       "      <td>Petrol</td>\n",
       "      <td>Automatic</td>\n",
       "      <td>Other</td>\n",
       "      <td>60000</td>\n",
       "      <td>32</td>\n",
       "    </tr>\n",
       "    <tr>\n",
       "      <th>679</th>\n",
       "      <td>E-Class</td>\n",
       "      <td>E 220</td>\n",
       "      <td>350000</td>\n",
       "      <td>1300 cc and lower</td>\n",
       "      <td>Petrol</td>\n",
       "      <td>Automatic</td>\n",
       "      <td>Istanbul</td>\n",
       "      <td>59000</td>\n",
       "      <td>33</td>\n",
       "    </tr>\n",
       "    <tr>\n",
       "      <th>699</th>\n",
       "      <td>E-Class</td>\n",
       "      <td>E 300</td>\n",
       "      <td>277000</td>\n",
       "      <td>1300 cc and lower</td>\n",
       "      <td>Petrol</td>\n",
       "      <td>Manual</td>\n",
       "      <td>Other</td>\n",
       "      <td>43500</td>\n",
       "      <td>37</td>\n",
       "    </tr>\n",
       "    <tr>\n",
       "      <th>763</th>\n",
       "      <td>E-Class</td>\n",
       "      <td>E 250</td>\n",
       "      <td>595000</td>\n",
       "      <td>1300 cc and lower</td>\n",
       "      <td>Diesel</td>\n",
       "      <td>Manual</td>\n",
       "      <td>Istanbul</td>\n",
       "      <td>62500</td>\n",
       "      <td>35</td>\n",
       "    </tr>\n",
       "    <tr>\n",
       "      <th>868</th>\n",
       "      <td>E-Class</td>\n",
       "      <td>E 250</td>\n",
       "      <td>500000</td>\n",
       "      <td>1300 cc and lower</td>\n",
       "      <td>Diesel</td>\n",
       "      <td>Manual</td>\n",
       "      <td>Other</td>\n",
       "      <td>48000</td>\n",
       "      <td>36</td>\n",
       "    </tr>\n",
       "    <tr>\n",
       "      <th>902</th>\n",
       "      <td>E-Class</td>\n",
       "      <td>E 250</td>\n",
       "      <td>590000</td>\n",
       "      <td>1300 cc and lower</td>\n",
       "      <td>Diesel</td>\n",
       "      <td>Manual</td>\n",
       "      <td>Other</td>\n",
       "      <td>62500</td>\n",
       "      <td>35</td>\n",
       "    </tr>\n",
       "  </tbody>\n",
       "</table>\n",
       "</div>"
      ],
      "text/plain": [
       "      class_ variant_      km engine_capacity_cc    fuel       gear      city  \\\n",
       "647  E-Class    E 200  391000  1300 cc and lower  Petrol  Automatic     Other   \n",
       "679  E-Class    E 220  350000  1300 cc and lower  Petrol  Automatic  Istanbul   \n",
       "699  E-Class    E 300  277000  1300 cc and lower  Petrol     Manual     Other   \n",
       "763  E-Class    E 250  595000  1300 cc and lower  Diesel     Manual  Istanbul   \n",
       "868  E-Class    E 250  500000  1300 cc and lower  Diesel     Manual     Other   \n",
       "902  E-Class    E 250  590000  1300 cc and lower  Diesel     Manual     Other   \n",
       "\n",
       "     price_tl  age  \n",
       "647     60000   32  \n",
       "679     59000   33  \n",
       "699     43500   37  \n",
       "763     62500   35  \n",
       "868     48000   36  \n",
       "902     62500   35  "
      ]
     },
     "execution_count": 21,
     "metadata": {},
     "output_type": "execute_result"
    }
   ],
   "source": [
    "df_2[df_2.age>30]"
   ]
  },
  {
   "cell_type": "code",
   "execution_count": 22,
   "metadata": {},
   "outputs": [
    {
     "data": {
      "text/plain": [
       "<matplotlib.axes._subplots.AxesSubplot at 0x19aaf487438>"
      ]
     },
     "execution_count": 22,
     "metadata": {},
     "output_type": "execute_result"
    },
    {
     "data": {
      "image/png": "[encoded data removed]",
      "text/plain": [
       "<matplotlib.figure.Figure at 0x19aaf48ccf8>"
      ]
     },
     "metadata": {
      "needs_background": "light"
     },
     "output_type": "display_data"
    }
   ],
   "source": [
    "sns.boxplot(x = df_2.price_tl)"
   ]
  },
  {
   "cell_type": "code",
   "execution_count": 23,
   "metadata": {},
   "outputs": [
    {
     "data": {
      "text/html": [
       "<div>\n",
       "<style scoped>\n",
       "    .dataframe tbody tr th:only-of-type {\n",
       "        vertical-align: middle;\n",
       "    }\n",
       "\n",
       "    .dataframe tbody tr th {\n",
       "        vertical-align: top;\n",
       "    }\n",
       "\n",
       "    .dataframe thead th {\n",
       "        text-align: right;\n",
       "    }\n",
       "</style>\n",
       "<table border=\"1\" class=\"dataframe\">\n",
       "  <thead>\n",
       "    <tr style=\"text-align: right;\">\n",
       "      <th></th>\n",
       "      <th>class_</th>\n",
       "      <th>variant_</th>\n",
       "      <th>km</th>\n",
       "      <th>engine_capacity_cc</th>\n",
       "      <th>fuel</th>\n",
       "      <th>gear</th>\n",
       "      <th>city</th>\n",
       "      <th>price_tl</th>\n",
       "      <th>age</th>\n",
       "    </tr>\n",
       "  </thead>\n",
       "  <tbody>\n",
       "    <tr>\n",
       "      <th>2</th>\n",
       "      <td>A-Class</td>\n",
       "      <td>Other</td>\n",
       "      <td>0</td>\n",
       "      <td>1301-1600 cc</td>\n",
       "      <td>Diesel</td>\n",
       "      <td>Semi-Automatic</td>\n",
       "      <td>Other</td>\n",
       "      <td>440000</td>\n",
       "      <td>2</td>\n",
       "    </tr>\n",
       "    <tr>\n",
       "      <th>14</th>\n",
       "      <td>A-Class</td>\n",
       "      <td>A 180</td>\n",
       "      <td>6000</td>\n",
       "      <td>1301-1600 cc</td>\n",
       "      <td>Diesel</td>\n",
       "      <td>Semi-Automatic</td>\n",
       "      <td>Istanbul</td>\n",
       "      <td>452500</td>\n",
       "      <td>2</td>\n",
       "    </tr>\n",
       "    <tr>\n",
       "      <th>21</th>\n",
       "      <td>A-Class</td>\n",
       "      <td>Other</td>\n",
       "      <td>90000</td>\n",
       "      <td>1301-1600 cc</td>\n",
       "      <td>Petrol</td>\n",
       "      <td>Semi-Automatic</td>\n",
       "      <td>Other</td>\n",
       "      <td>439900</td>\n",
       "      <td>2</td>\n",
       "    </tr>\n",
       "    <tr>\n",
       "      <th>37</th>\n",
       "      <td>A-Class</td>\n",
       "      <td>A 180</td>\n",
       "      <td>100000</td>\n",
       "      <td>1301-1600 cc</td>\n",
       "      <td>Diesel</td>\n",
       "      <td>Semi-Automatic</td>\n",
       "      <td>Istanbul</td>\n",
       "      <td>489500</td>\n",
       "      <td>2</td>\n",
       "    </tr>\n",
       "    <tr>\n",
       "      <th>41</th>\n",
       "      <td>A-Class</td>\n",
       "      <td>Other</td>\n",
       "      <td>90000</td>\n",
       "      <td>1301-1600 cc</td>\n",
       "      <td>Diesel</td>\n",
       "      <td>Semi-Automatic</td>\n",
       "      <td>Istanbul</td>\n",
       "      <td>409500</td>\n",
       "      <td>2</td>\n",
       "    </tr>\n",
       "  </tbody>\n",
       "</table>\n",
       "</div>"
      ],
      "text/plain": [
       "     class_ variant_      km engine_capacity_cc    fuel            gear  \\\n",
       "2   A-Class    Other       0       1301-1600 cc  Diesel  Semi-Automatic   \n",
       "14  A-Class    A 180    6000       1301-1600 cc  Diesel  Semi-Automatic   \n",
       "21  A-Class    Other   90000       1301-1600 cc  Petrol  Semi-Automatic   \n",
       "37  A-Class    A 180  100000       1301-1600 cc  Diesel  Semi-Automatic   \n",
       "41  A-Class    Other   90000       1301-1600 cc  Diesel  Semi-Automatic   \n",
       "\n",
       "        city  price_tl  age  \n",
       "2      Other    440000    2  \n",
       "14  Istanbul    452500    2  \n",
       "21     Other    439900    2  \n",
       "37  Istanbul    489500    2  \n",
       "41  Istanbul    409500    2  "
      ]
     },
     "execution_count": 23,
     "metadata": {},
     "output_type": "execute_result"
    }
   ],
   "source": [
    "df_2[df_2.price_tl>400000].head()"
   ]
  },
  {
   "cell_type": "code",
   "execution_count": 24,
   "metadata": {},
   "outputs": [
    {
     "data": {
      "image/png": "[encoded data removed]",
      "text/plain": [
       "<matplotlib.figure.Figure at 0x19aaf492cc0>"
      ]
     },
     "metadata": {
      "needs_background": "light"
     },
     "output_type": "display_data"
    }
   ],
   "source": [
    "sns.lmplot(x = 'age', y = 'km', fit_reg = False, hue = 'class_', data = df_2);"
   ]
  },
  {
   "cell_type": "code",
   "execution_count": 25,
   "metadata": {},
   "outputs": [
    {
     "data": {
      "image/png": "[encoded data removed]",
      "text/plain": [
       "<matplotlib.figure.Figure at 0x19aaf5049e8>"
      ]
     },
     "metadata": {
      "needs_background": "light"
     },
     "output_type": "display_data"
    }
   ],
   "source": [
    "sns.lmplot(x = 'age', y = 'price_tl', fit_reg = False, hue = 'class_', data = df_2);"
   ]
  },
  {
   "cell_type": "code",
   "execution_count": 26,
   "metadata": {},
   "outputs": [
    {
     "data": {
      "image/png": "[encoded data removed]",
      "text/plain": [
       "<matplotlib.figure.Figure at 0x19aaf5c5eb8>"
      ]
     },
     "metadata": {
      "needs_background": "light"
     },
     "output_type": "display_data"
    }
   ],
   "source": [
    "sns.heatmap(df_2.corr(),annot=True, cmap=\"YlGnBu\");"
   ]
  },
  {
   "cell_type": "code",
   "execution_count": 27,
   "metadata": {},
   "outputs": [
    {
     "data": {
      "text/html": [
       "<div>\n",
       "<style scoped>\n",
       "    .dataframe tbody tr th:only-of-type {\n",
       "        vertical-align: middle;\n",
       "    }\n",
       "\n",
       "    .dataframe tbody tr th {\n",
       "        vertical-align: top;\n",
       "    }\n",
       "\n",
       "    .dataframe thead th {\n",
       "        text-align: right;\n",
       "    }\n",
       "</style>\n",
       "<table border=\"1\" class=\"dataframe\">\n",
       "  <thead>\n",
       "    <tr style=\"text-align: right;\">\n",
       "      <th></th>\n",
       "      <th>class_</th>\n",
       "      <th>variant_</th>\n",
       "      <th>km</th>\n",
       "      <th>engine_capacity_cc</th>\n",
       "      <th>fuel</th>\n",
       "      <th>gear</th>\n",
       "      <th>city</th>\n",
       "      <th>price_tl</th>\n",
       "      <th>age</th>\n",
       "    </tr>\n",
       "  </thead>\n",
       "  <tbody>\n",
       "    <tr>\n",
       "      <th>0</th>\n",
       "      <td>A-Class</td>\n",
       "      <td>A 180</td>\n",
       "      <td>41000</td>\n",
       "      <td>1301-1600 cc</td>\n",
       "      <td>Diesel</td>\n",
       "      <td>Semi-Automatic</td>\n",
       "      <td>Other</td>\n",
       "      <td>325950</td>\n",
       "      <td>6</td>\n",
       "    </tr>\n",
       "    <tr>\n",
       "      <th>1</th>\n",
       "      <td>A-Class</td>\n",
       "      <td>A 180</td>\n",
       "      <td>102000</td>\n",
       "      <td>1301-1600 cc</td>\n",
       "      <td>Diesel</td>\n",
       "      <td>Automatic</td>\n",
       "      <td>Other</td>\n",
       "      <td>242000</td>\n",
       "      <td>5</td>\n",
       "    </tr>\n",
       "    <tr>\n",
       "      <th>2</th>\n",
       "      <td>A-Class</td>\n",
       "      <td>Other</td>\n",
       "      <td>0</td>\n",
       "      <td>1301-1600 cc</td>\n",
       "      <td>Diesel</td>\n",
       "      <td>Semi-Automatic</td>\n",
       "      <td>Other</td>\n",
       "      <td>440000</td>\n",
       "      <td>2</td>\n",
       "    </tr>\n",
       "    <tr>\n",
       "      <th>3</th>\n",
       "      <td>A-Class</td>\n",
       "      <td>A 180</td>\n",
       "      <td>160000</td>\n",
       "      <td>1301-1600 cc</td>\n",
       "      <td>Diesel</td>\n",
       "      <td>Semi-Automatic</td>\n",
       "      <td>Istanbul</td>\n",
       "      <td>239250</td>\n",
       "      <td>8</td>\n",
       "    </tr>\n",
       "    <tr>\n",
       "      <th>4</th>\n",
       "      <td>A-Class</td>\n",
       "      <td>A 180</td>\n",
       "      <td>91000</td>\n",
       "      <td>1301-1600 cc</td>\n",
       "      <td>Diesel</td>\n",
       "      <td>Semi-Automatic</td>\n",
       "      <td>Other</td>\n",
       "      <td>303750</td>\n",
       "      <td>6</td>\n",
       "    </tr>\n",
       "  </tbody>\n",
       "</table>\n",
       "</div>"
      ],
      "text/plain": [
       "    class_ variant_      km engine_capacity_cc    fuel            gear  \\\n",
       "0  A-Class    A 180   41000       1301-1600 cc  Diesel  Semi-Automatic   \n",
       "1  A-Class    A 180  102000       1301-1600 cc  Diesel       Automatic   \n",
       "2  A-Class    Other       0       1301-1600 cc  Diesel  Semi-Automatic   \n",
       "3  A-Class    A 180  160000       1301-1600 cc  Diesel  Semi-Automatic   \n",
       "4  A-Class    A 180   91000       1301-1600 cc  Diesel  Semi-Automatic   \n",
       "\n",
       "       city  price_tl  age  \n",
       "0     Other    325950    6  \n",
       "1     Other    242000    5  \n",
       "2     Other    440000    2  \n",
       "3  Istanbul    239250    8  \n",
       "4     Other    303750    6  "
      ]
     },
     "execution_count": 27,
     "metadata": {},
     "output_type": "execute_result"
    }
   ],
   "source": [
    "df_2.head()"
   ]
  },
  {
   "cell_type": "code",
   "execution_count": 28,
   "metadata": {},
   "outputs": [
    {
     "data": {
      "text/plain": [
       "Index(['class_', 'variant_', 'km', 'engine_capacity_cc', 'fuel', 'gear',\n",
       "       'city', 'price_tl', 'age'],\n",
       "      dtype='object')"
      ]
     },
     "execution_count": 28,
     "metadata": {},
     "output_type": "execute_result"
    }
   ],
   "source": [
    "df_2.columns"
   ]
  },
  {
   "cell_type": "code",
   "execution_count": 29,
   "metadata": {},
   "outputs": [
    {
     "name": "stdout",
     "output_type": "stream",
     "text": [
      "<class 'pandas.core.frame.DataFrame'>\n",
      "RangeIndex: 1024 entries, 0 to 1023\n",
      "Data columns (total 9 columns):\n",
      "class_                1024 non-null object\n",
      "variant_              1024 non-null object\n",
      "km                    1024 non-null int64\n",
      "engine_capacity_cc    1024 non-null object\n",
      "fuel                  1024 non-null object\n",
      "gear                  1024 non-null object\n",
      "city                  1024 non-null object\n",
      "price_tl              1024 non-null int64\n",
      "age                   1024 non-null int64\n",
      "dtypes: int64(3), object(6)\n",
      "memory usage: 72.1+ KB\n"
     ]
    }
   ],
   "source": [
    "df_2.info()"
   ]
  },
  {
   "cell_type": "code",
   "execution_count": 30,
   "metadata": {},
   "outputs": [],
   "source": [
    "df_3=df_2.copy()"
   ]
  },
  {
   "cell_type": "code",
   "execution_count": 31,
   "metadata": {},
   "outputs": [],
   "source": [
    "from sklearn import preprocessing \n",
    "le = preprocessing.LabelEncoder()"
   ]
  },
  {
   "cell_type": "code",
   "execution_count": 32,
   "metadata": {},
   "outputs": [],
   "source": [
    "df_3.class_ = le.fit_transform(df_2.class_)"
   ]
  },
  {
   "cell_type": "code",
   "execution_count": 33,
   "metadata": {},
   "outputs": [
    {
     "data": {
      "text/plain": [
       "array(['A-Class', 'B-Class', 'C-Class', 'E-Class'], dtype=object)"
      ]
     },
     "execution_count": 33,
     "metadata": {},
     "output_type": "execute_result"
    }
   ],
   "source": [
    "le.classes_"
   ]
  },
  {
   "cell_type": "code",
   "execution_count": 34,
   "metadata": {},
   "outputs": [
    {
     "data": {
      "text/plain": [
       "array([0, 1, 2, 3], dtype=int64)"
      ]
     },
     "execution_count": 34,
     "metadata": {},
     "output_type": "execute_result"
    }
   ],
   "source": [
    "df_3.class_.unique()"
   ]
  },
  {
   "cell_type": "code",
   "execution_count": 35,
   "metadata": {},
   "outputs": [
    {
     "name": "stderr",
     "output_type": "stream",
     "text": [
      "C:\\Users\\Noname\\Anaconda3\\lib\\site-packages\\sklearn\\preprocessing\\label.py:151: DeprecationWarning: The truth value of an empty array is ambiguous. Returning False, but in future this will result in an error. Use `array.size > 0` to check that an array is not empty.\n",
      "  if diff:\n"
     ]
    },
    {
     "data": {
      "text/plain": [
       "array(['E-Class'], dtype=object)"
      ]
     },
     "execution_count": 35,
     "metadata": {},
     "output_type": "execute_result"
    }
   ],
   "source": [
    "le.inverse_transform([3])"
   ]
  },
  {
   "cell_type": "code",
   "execution_count": 36,
   "metadata": {},
   "outputs": [],
   "source": [
    "df_3.variant_ = le.fit_transform(df_2.variant_)\n",
    "df_3.engine_capacity_cc = le.fit_transform(df_2.engine_capacity_cc)\n",
    "df_3.fuel = le.fit_transform(df_2.fuel)\n",
    "df_3.gear = le.fit_transform(df_2.gear)\n",
    "df_3.city = le.fit_transform(df_2.city)"
   ]
  },
  {
   "cell_type": "code",
   "execution_count": 52,
   "metadata": {},
   "outputs": [
    {
     "name": "stdout",
     "output_type": "stream",
     "text": [
      "['1300 cc and lower' '1301-1600 cc' '1601-1800 cc' '1801-2000 cc'\n",
      " '2001-2500 cc' '2501-3000 cc' '3001-3500 cc'][1 0 2 4 3 5 6]\n"
     ]
    }
   ],
   "source": [
    "df_3.engine_capacity_cc = le.fit_transform(df_2.engine_capacity_cc)\n",
    "test=df_3.engine_capacity_cc.unique()\n",
    "print(str(le.classes_)+str(test))"
   ]
  },
  {
   "cell_type": "code",
   "execution_count": 37,
   "metadata": {},
   "outputs": [
    {
     "data": {
      "text/html": [
       "<div>\n",
       "<style scoped>\n",
       "    .dataframe tbody tr th:only-of-type {\n",
       "        vertical-align: middle;\n",
       "    }\n",
       "\n",
       "    .dataframe tbody tr th {\n",
       "        vertical-align: top;\n",
       "    }\n",
       "\n",
       "    .dataframe thead th {\n",
       "        text-align: right;\n",
       "    }\n",
       "</style>\n",
       "<table border=\"1\" class=\"dataframe\">\n",
       "  <thead>\n",
       "    <tr style=\"text-align: right;\">\n",
       "      <th></th>\n",
       "      <th>class_</th>\n",
       "      <th>variant_</th>\n",
       "      <th>km</th>\n",
       "      <th>engine_capacity_cc</th>\n",
       "      <th>fuel</th>\n",
       "      <th>gear</th>\n",
       "      <th>city</th>\n",
       "      <th>price_tl</th>\n",
       "      <th>age</th>\n",
       "    </tr>\n",
       "  </thead>\n",
       "  <tbody>\n",
       "    <tr>\n",
       "      <th>0</th>\n",
       "      <td>0</td>\n",
       "      <td>0</td>\n",
       "      <td>41000</td>\n",
       "      <td>1</td>\n",
       "      <td>0</td>\n",
       "      <td>2</td>\n",
       "      <td>1</td>\n",
       "      <td>325950</td>\n",
       "      <td>6</td>\n",
       "    </tr>\n",
       "    <tr>\n",
       "      <th>1</th>\n",
       "      <td>0</td>\n",
       "      <td>0</td>\n",
       "      <td>102000</td>\n",
       "      <td>1</td>\n",
       "      <td>0</td>\n",
       "      <td>0</td>\n",
       "      <td>1</td>\n",
       "      <td>242000</td>\n",
       "      <td>5</td>\n",
       "    </tr>\n",
       "    <tr>\n",
       "      <th>2</th>\n",
       "      <td>0</td>\n",
       "      <td>12</td>\n",
       "      <td>0</td>\n",
       "      <td>1</td>\n",
       "      <td>0</td>\n",
       "      <td>2</td>\n",
       "      <td>1</td>\n",
       "      <td>440000</td>\n",
       "      <td>2</td>\n",
       "    </tr>\n",
       "    <tr>\n",
       "      <th>3</th>\n",
       "      <td>0</td>\n",
       "      <td>0</td>\n",
       "      <td>160000</td>\n",
       "      <td>1</td>\n",
       "      <td>0</td>\n",
       "      <td>2</td>\n",
       "      <td>0</td>\n",
       "      <td>239250</td>\n",
       "      <td>8</td>\n",
       "    </tr>\n",
       "    <tr>\n",
       "      <th>4</th>\n",
       "      <td>0</td>\n",
       "      <td>0</td>\n",
       "      <td>91000</td>\n",
       "      <td>1</td>\n",
       "      <td>0</td>\n",
       "      <td>2</td>\n",
       "      <td>1</td>\n",
       "      <td>303750</td>\n",
       "      <td>6</td>\n",
       "    </tr>\n",
       "  </tbody>\n",
       "</table>\n",
       "</div>"
      ],
      "text/plain": [
       "   class_  variant_      km  engine_capacity_cc  fuel  gear  city  price_tl  \\\n",
       "0       0         0   41000                   1     0     2     1    325950   \n",
       "1       0         0  102000                   1     0     0     1    242000   \n",
       "2       0        12       0                   1     0     2     1    440000   \n",
       "3       0         0  160000                   1     0     2     0    239250   \n",
       "4       0         0   91000                   1     0     2     1    303750   \n",
       "\n",
       "   age  \n",
       "0    6  \n",
       "1    5  \n",
       "2    2  \n",
       "3    8  \n",
       "4    6  "
      ]
     },
     "execution_count": 37,
     "metadata": {},
     "output_type": "execute_result"
    }
   ],
   "source": [
    "df_3.head()"
   ]
  },
  {
   "cell_type": "code",
   "execution_count": 38,
   "metadata": {},
   "outputs": [],
   "source": [
    "df_3.to_csv(r'merc_label.csv',index=False)"
   ]
  },
  {
   "cell_type": "code",
   "execution_count": null,
   "metadata": {},
   "outputs": [],
   "source": []
  }
 ],
 "metadata": {
  "kernelspec": {
   "display_name": "Python 3",
   "language": "python",
   "name": "python3"
  },
  "language_info": {
   "codemirror_mode": {
    "name": "ipython",
    "version": 3
   },
   "file_extension": ".py",
   "mimetype": "text/x-python",
   "name": "python",
   "nbconvert_exporter": "python",
   "pygments_lexer": "ipython3",
   "version": "3.6.4"
  }
 },
 "nbformat": 4,
 "nbformat_minor": 4
}
